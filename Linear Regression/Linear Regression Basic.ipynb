{
 "cells": [
  {
   "cell_type": "markdown",
   "id": "7aefee73",
   "metadata": {},
   "source": [
    "# Linear Regression"
   ]
  },
  {
   "cell_type": "markdown",
   "id": "70a2d876",
   "metadata": {},
   "source": [
    "* Linear regression is a statistical modeling technique used to establish a relationship between a dependent variable and one or   more independent variables.\n",
    "* It is commonly used to predict the value of a continuous target variable based on one or more input features.\n",
    "* In Python, linear regression can be performed using various libraries such as NumPy, Pandas, and scikit-learn."
   ]
  },
  {
   "cell_type": "code",
   "execution_count": 1,
   "id": "79ed7f50",
   "metadata": {},
   "outputs": [],
   "source": [
    "# Importing the libraries\n",
    "import numpy as np\n",
    "import matplotlib.pyplot as plt\n",
    "import pandas as pd"
   ]
  },
  {
   "cell_type": "markdown",
   "id": "cb43e9fb",
   "metadata": {},
   "source": [
    "* simple linear regression"
   ]
  },
  {
   "cell_type": "code",
   "execution_count": 2,
   "id": "331fae05",
   "metadata": {},
   "outputs": [],
   "source": [
    "# Example of simple linear regression\n",
    "x=[1,2,3,4,5]\n",
    "true_y=[3,4,2,4,5]\n",
    "predicted_y=[2.8,3.2,3.6,4,4.4]"
   ]
  },
  {
   "cell_type": "code",
   "execution_count": 50,
   "id": "dabddbb8",
   "metadata": {},
   "outputs": [
    {
     "data": {
      "image/png": "[encoded data removed]",
      "text/plain": [
       "<Figure size 432x288 with 1 Axes>"
      ]
     },
     "metadata": {
      "needs_background": "light"
     },
     "output_type": "display_data"
    }
   ],
   "source": [
    "#  To plot simple linear regression diagram\n",
    "plt.scatter(x,true_y , marker='*' ,color='Crimson')\n",
    "plt.plot(x,predicted_y,color='b')\n",
    "plt.show()"
   ]
  },
  {
   "cell_type": "code",
   "execution_count": 4,
   "id": "3506cd17",
   "metadata": {},
   "outputs": [
    {
     "data": {
      "text/html": [
       "<div>\n",
       "<style scoped>\n",
       "    .dataframe tbody tr th:only-of-type {\n",
       "        vertical-align: middle;\n",
       "    }\n",
       "\n",
       "    .dataframe tbody tr th {\n",
       "        vertical-align: top;\n",
       "    }\n",
       "\n",
       "    .dataframe thead th {\n",
       "        text-align: right;\n",
       "    }\n",
       "</style>\n",
       "<table border=\"1\" class=\"dataframe\">\n",
       "  <thead>\n",
       "    <tr style=\"text-align: right;\">\n",
       "      <th></th>\n",
       "      <th>Town</th>\n",
       "      <th>Area</th>\n",
       "      <th>Price</th>\n",
       "    </tr>\n",
       "  </thead>\n",
       "  <tbody>\n",
       "    <tr>\n",
       "      <th>0</th>\n",
       "      <td>Mumbai</td>\n",
       "      <td>2000</td>\n",
       "      <td>500000</td>\n",
       "    </tr>\n",
       "    <tr>\n",
       "      <th>1</th>\n",
       "      <td>pune</td>\n",
       "      <td>2100</td>\n",
       "      <td>510000</td>\n",
       "    </tr>\n",
       "    <tr>\n",
       "      <th>2</th>\n",
       "      <td>kolhapur</td>\n",
       "      <td>2200</td>\n",
       "      <td>520000</td>\n",
       "    </tr>\n",
       "    <tr>\n",
       "      <th>3</th>\n",
       "      <td>Mumbai</td>\n",
       "      <td>2300</td>\n",
       "      <td>540000</td>\n",
       "    </tr>\n",
       "    <tr>\n",
       "      <th>4</th>\n",
       "      <td>pune</td>\n",
       "      <td>2400</td>\n",
       "      <td>550000</td>\n",
       "    </tr>\n",
       "    <tr>\n",
       "      <th>5</th>\n",
       "      <td>Mumbai</td>\n",
       "      <td>2500</td>\n",
       "      <td>560000</td>\n",
       "    </tr>\n",
       "    <tr>\n",
       "      <th>6</th>\n",
       "      <td>pune</td>\n",
       "      <td>2600</td>\n",
       "      <td>570000</td>\n",
       "    </tr>\n",
       "    <tr>\n",
       "      <th>7</th>\n",
       "      <td>kolhapur</td>\n",
       "      <td>2700</td>\n",
       "      <td>580000</td>\n",
       "    </tr>\n",
       "    <tr>\n",
       "      <th>8</th>\n",
       "      <td>pune</td>\n",
       "      <td>2800</td>\n",
       "      <td>590000</td>\n",
       "    </tr>\n",
       "    <tr>\n",
       "      <th>9</th>\n",
       "      <td>Delhi</td>\n",
       "      <td>2900</td>\n",
       "      <td>600000</td>\n",
       "    </tr>\n",
       "  </tbody>\n",
       "</table>\n",
       "</div>"
      ],
      "text/plain": [
       "       Town  Area   Price\n",
       "0    Mumbai  2000  500000\n",
       "1      pune  2100  510000\n",
       "2  kolhapur  2200  520000\n",
       "3    Mumbai  2300  540000\n",
       "4      pune  2400  550000\n",
       "5    Mumbai  2500  560000\n",
       "6      pune  2600  570000\n",
       "7  kolhapur  2700  580000\n",
       "8      pune  2800  590000\n",
       "9     Delhi  2900  600000"
      ]
     },
     "execution_count": 4,
     "metadata": {},
     "output_type": "execute_result"
    }
   ],
   "source": [
    "# To read csv file\n",
    "df=pd.read_csv(\"D:\\DATA SCIENCE\\ML\\Practice ML\\House_prediction.csv.xls\")\n",
    "df"
   ]
  },
  {
   "cell_type": "code",
   "execution_count": 5,
   "id": "61edc3b7",
   "metadata": {},
   "outputs": [
    {
     "name": "stdout",
     "output_type": "stream",
     "text": [
      "<class 'pandas.core.frame.DataFrame'>\n",
      "RangeIndex: 10 entries, 0 to 9\n",
      "Data columns (total 3 columns):\n",
      " #   Column  Non-Null Count  Dtype \n",
      "---  ------  --------------  ----- \n",
      " 0   Town    10 non-null     object\n",
      " 1   Area    10 non-null     int64 \n",
      " 2   Price   10 non-null     int64 \n",
      "dtypes: int64(2), object(1)\n",
      "memory usage: 368.0+ bytes\n"
     ]
    }
   ],
   "source": [
    "# To check information of above file\n",
    "df.info()"
   ]
  },
  {
   "cell_type": "code",
   "execution_count": 44,
   "id": "30eaccef",
   "metadata": {
    "scrolled": true
   },
   "outputs": [
    {
     "data": {
      "image/png": "[encoded data removed]",
      "text/plain": [
       "<Figure size 432x288 with 1 Axes>"
      ]
     },
     "metadata": {
      "needs_background": "light"
     },
     "output_type": "display_data"
    }
   ],
   "source": [
    "# To plot scatter diagram\n",
    "plt.scatter(df.Area,df.Price,marker='P',color='OrangeRed')\n",
    "plt.show()"
   ]
  },
  {
   "cell_type": "markdown",
   "id": "fdd4b468",
   "metadata": {},
   "source": [
    "* Install sklearn"
   ]
  },
  {
   "cell_type": "code",
   "execution_count": 7,
   "id": "0a820f63",
   "metadata": {
    "scrolled": true
   },
   "outputs": [
    {
     "name": "stdout",
     "output_type": "stream",
     "text": [
      "Requirement already satisfied: scikit-learn in c:\\users\\hp\\anaconda3\\lib\\site-packages (1.0.2)\n",
      "Requirement already satisfied: numpy>=1.14.6 in c:\\users\\hp\\anaconda3\\lib\\site-packages (from scikit-learn) (1.21.5)\n",
      "Requirement already satisfied: threadpoolctl>=2.0.0 in c:\\users\\hp\\anaconda3\\lib\\site-packages (from scikit-learn) (2.2.0)\n",
      "Requirement already satisfied: scipy>=1.1.0 in c:\\users\\hp\\anaconda3\\lib\\site-packages (from scikit-learn) (1.7.3)\n",
      "Requirement already satisfied: joblib>=0.11 in c:\\users\\hp\\anaconda3\\lib\\site-packages (from scikit-learn) (1.1.0)\n",
      "Note: you may need to restart the kernel to use updated packages.\n"
     ]
    }
   ],
   "source": [
    "pip install scikit-learn"
   ]
  },
  {
   "cell_type": "code",
   "execution_count": 8,
   "id": "739b69eb",
   "metadata": {},
   "outputs": [],
   "source": [
    "# Import LinearRegression from sklearn\n",
    "from sklearn.linear_model import LinearRegression"
   ]
  },
  {
   "cell_type": "code",
   "execution_count": 9,
   "id": "6d5f0fcd",
   "metadata": {},
   "outputs": [],
   "source": [
    "# create aobject\n",
    "model=LinearRegression()"
   ]
  },
  {
   "cell_type": "code",
   "execution_count": 10,
   "id": "2ef652b1",
   "metadata": {},
   "outputs": [
    {
     "data": {
      "text/plain": [
       "LinearRegression()"
      ]
     },
     "execution_count": 10,
     "metadata": {},
     "output_type": "execute_result"
    }
   ],
   "source": [
    "# train this algoritham depending upon input\n",
    "model.fit(df[[\"Area\"]],df.Price)"
   ]
  },
  {
   "cell_type": "code",
   "execution_count": 11,
   "id": "015d3b38",
   "metadata": {},
   "outputs": [
    {
     "data": {
      "text/plain": [
       "array([501272.72727273, 512545.45454545, 523818.18181818, 535090.90909091,\n",
       "       546363.63636364, 557636.36363636, 568909.09090909, 580181.81818182,\n",
       "       591454.54545455, 602727.27272727])"
      ]
     },
     "execution_count": 11,
     "metadata": {},
     "output_type": "execute_result"
    }
   ],
   "source": [
    "# To find predicted value\n",
    "y_predicted=model.predict(df[['Area']])\n",
    "y_predicted"
   ]
  },
  {
   "cell_type": "code",
   "execution_count": 29,
   "id": "5a0f1734",
   "metadata": {},
   "outputs": [
    {
     "name": "stdout",
     "output_type": "stream",
     "text": [
      "model of coefficient:  [112.72727273]\n",
      "model of intercept :  275818.1818181819\n"
     ]
    }
   ],
   "source": [
    "# To find m (Slope)\n",
    "model.coef_\n",
    "print(\"model of coefficient: \", model.coef_)\n",
    "\n",
    "# To find c (intercept)\n",
    "model.intercept_\n",
    "print(\"model of intercept : \", model.intercept_)"
   ]
  },
  {
   "cell_type": "code",
   "execution_count": 51,
   "id": "5594b454",
   "metadata": {},
   "outputs": [
    {
     "data": {
      "image/png": "[encoded data removed]",
      "text/plain": [
       "<Figure size 432x288 with 1 Axes>"
      ]
     },
     "metadata": {
      "needs_background": "light"
     },
     "output_type": "display_data"
    }
   ],
   "source": [
    "# TO plot scatter dia for area and price\n",
    "plt.scatter(df.Area,df.Price,marker=\"H\")\n",
    "plt.plot(df.Area,y_predicted,color=\"r\")\n",
    "plt.show()"
   ]
  },
  {
   "cell_type": "code",
   "execution_count": 15,
   "id": "1aa481bc",
   "metadata": {},
   "outputs": [],
   "source": [
    "# To import r2 score from sklearn\n",
    "from sklearn.metrics import r2_score"
   ]
  },
  {
   "cell_type": "code",
   "execution_count": 30,
   "id": "ce2ace7b",
   "metadata": {},
   "outputs": [
    {
     "name": "stdout",
     "output_type": "stream",
     "text": [
      "r2_score :  0.3076923076923078\n"
     ]
    }
   ],
   "source": [
    "# To find r2_score\n",
    "r2_score(true_y,predicted_y)\n",
    "print(\"r2_score : \", r2_score(true_y,predicted_y))"
   ]
  },
  {
   "cell_type": "code",
   "execution_count": 17,
   "id": "0c192cdd",
   "metadata": {},
   "outputs": [],
   "source": [
    "# To find MSE from sklearn.metrics\n",
    "from sklearn.metrics import mean_squared_error"
   ]
  },
  {
   "cell_type": "code",
   "execution_count": 31,
   "id": "1b3a768d",
   "metadata": {},
   "outputs": [
    {
     "name": "stdout",
     "output_type": "stream",
     "text": [
      "mean squared error :  0.72\n"
     ]
    }
   ],
   "source": [
    "# To find mean squared error\n",
    "mean_squared_error(true_y,predicted_y)\n",
    "print(\"mean squared error : \", mean_squared_error(true_y,predicted_y))"
   ]
  },
  {
   "cell_type": "code",
   "execution_count": 19,
   "id": "3b4b082c",
   "metadata": {},
   "outputs": [
    {
     "name": "stderr",
     "output_type": "stream",
     "text": [
      "C:\\Users\\HP\\anaconda3\\lib\\site-packages\\sklearn\\base.py:450: UserWarning: X does not have valid feature names, but LinearRegression was fitted with feature names\n",
      "  warnings.warn(\n"
     ]
    },
    {
     "data": {
      "text/plain": [
       "array([1966727.27272727])"
      ]
     },
     "execution_count": 19,
     "metadata": {},
     "output_type": "execute_result"
    }
   ],
   "source": [
    "# if i want to by flat then i will check as follows(in bracet i put values in 2D format )\n",
    "model.predict([[15000]])"
   ]
  },
  {
   "cell_type": "code",
   "execution_count": 32,
   "id": "c32cb7d9",
   "metadata": {},
   "outputs": [
    {
     "name": "stdout",
     "output_type": "stream",
     "text": [
      "model score :  0.9927685950413224\n"
     ]
    }
   ],
   "source": [
    "model.score(df[['Area']],df.Price)\n",
    "print(\"model score : \",model.score(df[['Area']],df.Price))"
   ]
  },
  {
   "cell_type": "code",
   "execution_count": null,
   "id": "a0f3ad1a",
   "metadata": {},
   "outputs": [],
   "source": []
  }
 ],
 "metadata": {
  "kernelspec": {
   "display_name": "Python 3 (ipykernel)",
   "language": "python",
   "name": "python3"
  },
  "language_info": {
   "codemirror_mode": {
    "name": "ipython",
    "version": 3
   },
   "file_extension": ".py",
   "mimetype": "text/x-python",
   "name": "python",
   "nbconvert_exporter": "python",
   "pygments_lexer": "ipython3",
   "version": "3.9.12"
  }
 },
 "nbformat": 4,
 "nbformat_minor": 5
}
